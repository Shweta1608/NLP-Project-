{
 "cells": [
  {
   "cell_type": "code",
   "execution_count": 163,
   "id": "d243b093",
   "metadata": {},
   "outputs": [],
   "source": [
    "import pandas as pd\n",
    "import string\n",
    "from nltk.corpus import stopwords"
   ]
  },
  {
   "cell_type": "code",
   "execution_count": 164,
   "id": "e50a1700",
   "metadata": {},
   "outputs": [],
   "source": [
    "import nltk"
   ]
  },
  {
   "cell_type": "code",
   "execution_count": 165,
   "id": "5b65c489",
   "metadata": {},
   "outputs": [
    {
     "name": "stderr",
     "output_type": "stream",
     "text": [
      "[nltk_data] Downloading package stopwords to\n",
      "[nltk_data]     C:\\Users\\Shweta\\AppData\\Roaming\\nltk_data...\n",
      "[nltk_data]   Package stopwords is already up-to-date!\n"
     ]
    },
    {
     "data": {
      "text/plain": [
       "True"
      ]
     },
     "execution_count": 165,
     "metadata": {},
     "output_type": "execute_result"
    }
   ],
   "source": [
    "nltk.download ('stopwords')"
   ]
  },
  {
   "cell_type": "code",
   "execution_count": 166,
   "id": "b4524773",
   "metadata": {},
   "outputs": [],
   "source": [
    "leads  = pd.read_excel(\"1000 leads.xlsx\")"
   ]
  },
  {
   "cell_type": "code",
   "execution_count": 167,
   "id": "42d1a171",
   "metadata": {},
   "outputs": [
    {
     "data": {
      "text/html": [
       "<div>\n",
       "<style scoped>\n",
       "    .dataframe tbody tr th:only-of-type {\n",
       "        vertical-align: middle;\n",
       "    }\n",
       "\n",
       "    .dataframe tbody tr th {\n",
       "        vertical-align: top;\n",
       "    }\n",
       "\n",
       "    .dataframe thead th {\n",
       "        text-align: right;\n",
       "    }\n",
       "</style>\n",
       "<table border=\"1\" class=\"dataframe\">\n",
       "  <thead>\n",
       "    <tr style=\"text-align: right;\">\n",
       "      <th></th>\n",
       "      <th>Lead Name</th>\n",
       "      <th>Location</th>\n",
       "      <th>Status</th>\n",
       "      <th>Status information</th>\n",
       "    </tr>\n",
       "  </thead>\n",
       "  <tbody>\n",
       "    <tr>\n",
       "      <th>0</th>\n",
       "      <td>Raja</td>\n",
       "      <td>hyderabad</td>\n",
       "      <td>Not Converted</td>\n",
       "      <td>14/8/prema: share me details, available in evn...</td>\n",
       "    </tr>\n",
       "    <tr>\n",
       "      <th>1</th>\n",
       "      <td>Anirudh Reddy</td>\n",
       "      <td>pune</td>\n",
       "      <td>Not Converted</td>\n",
       "      <td>14/8/prema: cal me tmrw, shared details to ema...</td>\n",
       "    </tr>\n",
       "    <tr>\n",
       "      <th>2</th>\n",
       "      <td>Sapna Dewani</td>\n",
       "      <td>bangalore</td>\n",
       "      <td>Converted</td>\n",
       "      <td>16|AuG|moHan:rnr</td>\n",
       "    </tr>\n",
       "    <tr>\n",
       "      <th>3</th>\n",
       "      <td>suresh</td>\n",
       "      <td>mumbai</td>\n",
       "      <td>Not Converted</td>\n",
       "      <td>14/8/17(Surendra):i want only Server 16|AuG|mo...</td>\n",
       "    </tr>\n",
       "    <tr>\n",
       "      <th>4</th>\n",
       "      <td>Akshay Shinde</td>\n",
       "      <td>hyderabad</td>\n",
       "      <td>Not Converted</td>\n",
       "      <td>14/8/prema:rnr 16/8/prema: gave info, he said ...</td>\n",
       "    </tr>\n",
       "    <tr>\n",
       "      <th>...</th>\n",
       "      <td>...</td>\n",
       "      <td>...</td>\n",
       "      <td>...</td>\n",
       "      <td>...</td>\n",
       "    </tr>\n",
       "    <tr>\n",
       "      <th>996</th>\n",
       "      <td>vipin</td>\n",
       "      <td>bangalore</td>\n",
       "      <td>Not Converted</td>\n",
       "      <td>25/4/17(Surendra):please send me details tomor...</td>\n",
       "    </tr>\n",
       "    <tr>\n",
       "      <th>997</th>\n",
       "      <td>dheeraj</td>\n",
       "      <td>chennai</td>\n",
       "      <td>Not Converted</td>\n",
       "      <td>24/4/17(prema): need CT, but our venue is far....</td>\n",
       "    </tr>\n",
       "    <tr>\n",
       "      <th>998</th>\n",
       "      <td>kuldeep singh</td>\n",
       "      <td>bangalore</td>\n",
       "      <td>Not Converted</td>\n",
       "      <td>24/Apr/moHan:intrstd in evng batch trail perd ...</td>\n",
       "    </tr>\n",
       "    <tr>\n",
       "      <th>999</th>\n",
       "      <td>ankur sharma</td>\n",
       "      <td>bangalore</td>\n",
       "      <td>Not Converted</td>\n",
       "      <td>1/5/17(Surendra):please share me details 11/5/...</td>\n",
       "    </tr>\n",
       "    <tr>\n",
       "      <th>1000</th>\n",
       "      <td>Saugata Chakrabarti</td>\n",
       "      <td>bangalore</td>\n",
       "      <td>Not Converted</td>\n",
       "      <td>24/4/17(prema): shared details need only Cert....</td>\n",
       "    </tr>\n",
       "  </tbody>\n",
       "</table>\n",
       "<p>1001 rows × 4 columns</p>\n",
       "</div>"
      ],
      "text/plain": [
       "                Lead Name   Location        Status   \\\n",
       "0                    Raja  hyderabad  Not Converted   \n",
       "1           Anirudh Reddy       pune  Not Converted   \n",
       "2            Sapna Dewani  bangalore     Converted    \n",
       "3                  suresh     mumbai  Not Converted   \n",
       "4           Akshay Shinde  hyderabad  Not Converted   \n",
       "...                   ...        ...            ...   \n",
       "996                 vipin  bangalore  Not Converted   \n",
       "997               dheeraj    chennai  Not Converted   \n",
       "998         kuldeep singh  bangalore  Not Converted   \n",
       "999          ankur sharma  bangalore  Not Converted   \n",
       "1000  Saugata Chakrabarti  bangalore  Not Converted   \n",
       "\n",
       "                                     Status information  \n",
       "0     14/8/prema: share me details, available in evn...  \n",
       "1     14/8/prema: cal me tmrw, shared details to ema...  \n",
       "2                                      16|AuG|moHan:rnr  \n",
       "3     14/8/17(Surendra):i want only Server 16|AuG|mo...  \n",
       "4     14/8/prema:rnr 16/8/prema: gave info, he said ...  \n",
       "...                                                 ...  \n",
       "996   25/4/17(Surendra):please send me details tomor...  \n",
       "997   24/4/17(prema): need CT, but our venue is far....  \n",
       "998   24/Apr/moHan:intrstd in evng batch trail perd ...  \n",
       "999   1/5/17(Surendra):please share me details 11/5/...  \n",
       "1000  24/4/17(prema): shared details need only Cert....  \n",
       "\n",
       "[1001 rows x 4 columns]"
      ]
     },
     "execution_count": 167,
     "metadata": {},
     "output_type": "execute_result"
    }
   ],
   "source": [
    "leads"
   ]
  },
  {
   "cell_type": "code",
   "execution_count": 168,
   "id": "0ff6c0be",
   "metadata": {},
   "outputs": [],
   "source": [
    "leads ['Status '].replace ('Conveted','Converted',inplace=True)\n",
    "leads ['Status '].replace ('NOt Converted','Not Converted',inplace=True)\n",
    "leads ['Status '].replace ('Converted ','Converted',inplace=True)\n",
    "leads ['Status '].replace ('Zero','No information',inplace=True)\n"
   ]
  },
  {
   "cell_type": "code",
   "execution_count": 169,
   "id": "2ddd8ff5",
   "metadata": {},
   "outputs": [
    {
     "data": {
      "text/plain": [
       "array(['Not Converted', 'Converted', nan], dtype=object)"
      ]
     },
     "execution_count": 169,
     "metadata": {},
     "output_type": "execute_result"
    }
   ],
   "source": [
    "leads ['Status '].unique()"
   ]
  },
  {
   "cell_type": "code",
   "execution_count": 245,
   "id": "e2c85a0f",
   "metadata": {},
   "outputs": [
    {
     "data": {
      "text/plain": [
       "0"
      ]
     },
     "execution_count": 245,
     "metadata": {},
     "output_type": "execute_result"
    }
   ],
   "source": [
    "leads ['Status '].isnull().sum()"
   ]
  },
  {
   "cell_type": "code",
   "execution_count": 237,
   "id": "84ec5145",
   "metadata": {},
   "outputs": [
    {
     "data": {
      "text/plain": [
       "0"
      ]
     },
     "execution_count": 237,
     "metadata": {},
     "output_type": "execute_result"
    }
   ],
   "source": [
    "leads ['Location'].isnull().sum()"
   ]
  },
  {
   "cell_type": "code",
   "execution_count": 236,
   "id": "d569c872",
   "metadata": {},
   "outputs": [],
   "source": [
    "leads['Location'].fillna('not mentioned',inplace=True)"
   ]
  },
  {
   "cell_type": "code",
   "execution_count": 246,
   "id": "aa1439a4",
   "metadata": {},
   "outputs": [
    {
     "data": {
      "text/plain": [
       "0"
      ]
     },
     "execution_count": 246,
     "metadata": {},
     "output_type": "execute_result"
    }
   ],
   "source": [
    "leads['Status information'].isnull().sum()"
   ]
  },
  {
   "cell_type": "code",
   "execution_count": 172,
   "id": "ab157b0a",
   "metadata": {},
   "outputs": [],
   "source": [
    "leads['Status '].fillna('not mentioned',inplace=True)"
   ]
  },
  {
   "cell_type": "code",
   "execution_count": 173,
   "id": "ece0672d",
   "metadata": {},
   "outputs": [],
   "source": [
    "leads['Status information'].fillna('not mentioned',inplace=True)"
   ]
  },
  {
   "cell_type": "code",
   "execution_count": 174,
   "id": "16e32afe",
   "metadata": {},
   "outputs": [
    {
     "data": {
      "text/html": [
       "<div>\n",
       "<style scoped>\n",
       "    .dataframe tbody tr th:only-of-type {\n",
       "        vertical-align: middle;\n",
       "    }\n",
       "\n",
       "    .dataframe tbody tr th {\n",
       "        vertical-align: top;\n",
       "    }\n",
       "\n",
       "    .dataframe thead tr th {\n",
       "        text-align: left;\n",
       "    }\n",
       "\n",
       "    .dataframe thead tr:last-of-type th {\n",
       "        text-align: right;\n",
       "    }\n",
       "</style>\n",
       "<table border=\"1\" class=\"dataframe\">\n",
       "  <thead>\n",
       "    <tr>\n",
       "      <th></th>\n",
       "      <th colspan=\"4\" halign=\"left\">Lead Name</th>\n",
       "      <th colspan=\"4\" halign=\"left\">Location</th>\n",
       "      <th colspan=\"4\" halign=\"left\">Status information</th>\n",
       "    </tr>\n",
       "    <tr>\n",
       "      <th></th>\n",
       "      <th>count</th>\n",
       "      <th>unique</th>\n",
       "      <th>top</th>\n",
       "      <th>freq</th>\n",
       "      <th>count</th>\n",
       "      <th>unique</th>\n",
       "      <th>top</th>\n",
       "      <th>freq</th>\n",
       "      <th>count</th>\n",
       "      <th>unique</th>\n",
       "      <th>top</th>\n",
       "      <th>freq</th>\n",
       "    </tr>\n",
       "    <tr>\n",
       "      <th>Status</th>\n",
       "      <th></th>\n",
       "      <th></th>\n",
       "      <th></th>\n",
       "      <th></th>\n",
       "      <th></th>\n",
       "      <th></th>\n",
       "      <th></th>\n",
       "      <th></th>\n",
       "      <th></th>\n",
       "      <th></th>\n",
       "      <th></th>\n",
       "      <th></th>\n",
       "    </tr>\n",
       "  </thead>\n",
       "  <tbody>\n",
       "    <tr>\n",
       "      <th>Converted</th>\n",
       "      <td>131</td>\n",
       "      <td>128</td>\n",
       "      <td>Rashmi</td>\n",
       "      <td>2</td>\n",
       "      <td>128</td>\n",
       "      <td>19</td>\n",
       "      <td>bangalore</td>\n",
       "      <td>45</td>\n",
       "      <td>131</td>\n",
       "      <td>130</td>\n",
       "      <td>not mentioned</td>\n",
       "      <td>2</td>\n",
       "    </tr>\n",
       "    <tr>\n",
       "      <th>Not Converted</th>\n",
       "      <td>867</td>\n",
       "      <td>765</td>\n",
       "      <td>Suresh</td>\n",
       "      <td>5</td>\n",
       "      <td>849</td>\n",
       "      <td>51</td>\n",
       "      <td>bangalore</td>\n",
       "      <td>293</td>\n",
       "      <td>867</td>\n",
       "      <td>841</td>\n",
       "      <td>not mentioned</td>\n",
       "      <td>22</td>\n",
       "    </tr>\n",
       "    <tr>\n",
       "      <th>not mentioned</th>\n",
       "      <td>3</td>\n",
       "      <td>3</td>\n",
       "      <td>Vaijayanthi</td>\n",
       "      <td>1</td>\n",
       "      <td>3</td>\n",
       "      <td>3</td>\n",
       "      <td>hyderabad</td>\n",
       "      <td>1</td>\n",
       "      <td>3</td>\n",
       "      <td>3</td>\n",
       "      <td>17/JulY/moHan:need cls room 20/JulY/moHan:not now</td>\n",
       "      <td>1</td>\n",
       "    </tr>\n",
       "  </tbody>\n",
       "</table>\n",
       "</div>"
      ],
      "text/plain": [
       "              Lead Name                          Location                    \\\n",
       "                  count unique          top freq    count unique        top   \n",
       "Status                                                                        \n",
       "Converted           131    128       Rashmi    2      128     19  bangalore   \n",
       "Not Converted       867    765       Suresh    5      849     51  bangalore   \n",
       "not mentioned         3      3  Vaijayanthi    1        3      3  hyderabad   \n",
       "\n",
       "                   Status information         \\\n",
       "              freq              count unique   \n",
       "Status                                         \n",
       "Converted       45                131    130   \n",
       "Not Converted  293                867    841   \n",
       "not mentioned    1                  3      3   \n",
       "\n",
       "                                                                       \n",
       "                                                             top freq  \n",
       "Status                                                                 \n",
       "Converted                                          not mentioned    2  \n",
       "Not Converted                                      not mentioned   22  \n",
       "not mentioned  17/JulY/moHan:need cls room 20/JulY/moHan:not now    1  "
      ]
     },
     "execution_count": 174,
     "metadata": {},
     "output_type": "execute_result"
    }
   ],
   "source": [
    "leads.groupby('Status ').describe()"
   ]
  },
  {
   "cell_type": "code",
   "execution_count": 175,
   "id": "7a5510b0",
   "metadata": {},
   "outputs": [],
   "source": [
    "def message_text_process(mess):\n",
    "    no_punctuation = [char for char in mess if char not in string.punctuation]\n",
    "    no_punctuation = ''.join(no_punctuation)\n",
    "    return [word for word in no_punctuation.split() if word.lower() \n",
    "            not in stopwords.words('english')]"
   ]
  },
  {
   "cell_type": "code",
   "execution_count": 176,
   "id": "9521d310",
   "metadata": {},
   "outputs": [
    {
     "data": {
      "text/plain": [
       "Location                        [hyderabadpunebangaloremumbaihyderabad]\n",
       "Status                [ConvertedNot, ConvertedConvertedNot, Converte...\n",
       "Status information    [14/8/prema:, share, details,, available, evng...\n",
       "dtype: object"
      ]
     },
     "execution_count": 176,
     "metadata": {},
     "output_type": "execute_result"
    }
   ],
   "source": [
    "leads[['Location','Status ','Status information']].head(5).apply(message_text_process)"
   ]
  },
  {
   "cell_type": "code",
   "execution_count": 177,
   "id": "7d195f9a",
   "metadata": {},
   "outputs": [],
   "source": [
    "from sklearn.feature_extraction.text import CountVectorizer #DTM"
   ]
  },
  {
   "cell_type": "code",
   "execution_count": 187,
   "id": "293eb49e",
   "metadata": {},
   "outputs": [],
   "source": [
    "# # Create a new column 'Combined_Text' that contains the concatenated text\n",
    "# Combined_Text = leads['Location'] + ' ' + leads['Status '] + ' ' + leads['Status information']\n",
    "\n",
    "# # Display the DataFrame with the new 'Combined_Text' column\n",
    "# #print(leads[['Location', 'Status', 'Status information', 'Combined_Text']])\n"
   ]
  },
  {
   "cell_type": "code",
   "execution_count": 193,
   "id": "c316f392",
   "metadata": {},
   "outputs": [
    {
     "name": "stdout",
     "output_type": "stream",
     "text": [
      "                Lead Name   Location        Status   \\\n",
      "0                    Raja  hyderabad  Not Converted   \n",
      "1           Anirudh Reddy       pune  Not Converted   \n",
      "2            Sapna Dewani  bangalore      Converted   \n",
      "3                  suresh     mumbai  Not Converted   \n",
      "4           Akshay Shinde  hyderabad  Not Converted   \n",
      "...                   ...        ...            ...   \n",
      "996                 vipin  bangalore  Not Converted   \n",
      "997               dheeraj    chennai  Not Converted   \n",
      "998         kuldeep singh  bangalore  Not Converted   \n",
      "999          ankur sharma  bangalore  Not Converted   \n",
      "1000  Saugata Chakrabarti  bangalore  Not Converted   \n",
      "\n",
      "                                     Status information  \\\n",
      "0     14/8/prema: share me details, available in evn...   \n",
      "1     14/8/prema: cal me tmrw, shared details to ema...   \n",
      "2                                      16|AuG|moHan:rnr   \n",
      "3     14/8/17(Surendra):i want only Server 16|AuG|mo...   \n",
      "4     14/8/prema:rnr 16/8/prema: gave info, he said ...   \n",
      "...                                                 ...   \n",
      "996   25/4/17(Surendra):please send me details tomor...   \n",
      "997   24/4/17(prema): need CT, but our venue is far....   \n",
      "998   24/Apr/moHan:intrstd in evng batch trail perd ...   \n",
      "999   1/5/17(Surendra):please share me details 11/5/...   \n",
      "1000  24/4/17(prema): shared details need only Cert....   \n",
      "\n",
      "                                          Combined_Text  \n",
      "0     hyderabad Not Converted 14/8/prema: share me d...  \n",
      "1     pune Not Converted 14/8/prema: cal me tmrw, sh...  \n",
      "2                  bangalore Converted 16|AuG|moHan:rnr  \n",
      "3     mumbai Not Converted 14/8/17(Surendra):i want ...  \n",
      "4     hyderabad Not Converted 14/8/prema:rnr 16/8/pr...  \n",
      "...                                                 ...  \n",
      "996   bangalore Not Converted 25/4/17(Surendra):plea...  \n",
      "997   chennai Not Converted 24/4/17(prema): need CT,...  \n",
      "998   bangalore Not Converted 24/Apr/moHan:intrstd i...  \n",
      "999   bangalore Not Converted 1/5/17(Surendra):pleas...  \n",
      "1000  bangalore Not Converted 24/4/17(prema): shared...  \n",
      "\n",
      "[1001 rows x 5 columns]\n"
     ]
    }
   ],
   "source": [
    "# Import the pandas library if not already imported\n",
    "import pandas as pd\n",
    "\n",
    "# Assuming 'leads' is your DataFrame\n",
    "leads['Combined_Text'] = leads['Location'] + ' ' + leads['Status '] + ' ' + leads['Status information']\n",
    "\n",
    "# Display the updated DataFrame\n",
    "print(leads)\n"
   ]
  },
  {
   "cell_type": "code",
   "execution_count": 195,
   "id": "1253784b",
   "metadata": {},
   "outputs": [
    {
     "data": {
      "text/html": [
       "<div>\n",
       "<style scoped>\n",
       "    .dataframe tbody tr th:only-of-type {\n",
       "        vertical-align: middle;\n",
       "    }\n",
       "\n",
       "    .dataframe tbody tr th {\n",
       "        vertical-align: top;\n",
       "    }\n",
       "\n",
       "    .dataframe thead th {\n",
       "        text-align: right;\n",
       "    }\n",
       "</style>\n",
       "<table border=\"1\" class=\"dataframe\">\n",
       "  <thead>\n",
       "    <tr style=\"text-align: right;\">\n",
       "      <th></th>\n",
       "      <th>Lead Name</th>\n",
       "      <th>Location</th>\n",
       "      <th>Status</th>\n",
       "      <th>Status information</th>\n",
       "      <th>Combined_Text</th>\n",
       "    </tr>\n",
       "  </thead>\n",
       "  <tbody>\n",
       "    <tr>\n",
       "      <th>0</th>\n",
       "      <td>Raja</td>\n",
       "      <td>hyderabad</td>\n",
       "      <td>Not Converted</td>\n",
       "      <td>14/8/prema: share me details, available in evn...</td>\n",
       "      <td>hyderabad Not Converted 14/8/prema: share me d...</td>\n",
       "    </tr>\n",
       "    <tr>\n",
       "      <th>1</th>\n",
       "      <td>Anirudh Reddy</td>\n",
       "      <td>pune</td>\n",
       "      <td>Not Converted</td>\n",
       "      <td>14/8/prema: cal me tmrw, shared details to ema...</td>\n",
       "      <td>pune Not Converted 14/8/prema: cal me tmrw, sh...</td>\n",
       "    </tr>\n",
       "    <tr>\n",
       "      <th>2</th>\n",
       "      <td>Sapna Dewani</td>\n",
       "      <td>bangalore</td>\n",
       "      <td>Converted</td>\n",
       "      <td>16|AuG|moHan:rnr</td>\n",
       "      <td>bangalore Converted 16|AuG|moHan:rnr</td>\n",
       "    </tr>\n",
       "    <tr>\n",
       "      <th>3</th>\n",
       "      <td>suresh</td>\n",
       "      <td>mumbai</td>\n",
       "      <td>Not Converted</td>\n",
       "      <td>14/8/17(Surendra):i want only Server 16|AuG|mo...</td>\n",
       "      <td>mumbai Not Converted 14/8/17(Surendra):i want ...</td>\n",
       "    </tr>\n",
       "    <tr>\n",
       "      <th>4</th>\n",
       "      <td>Akshay Shinde</td>\n",
       "      <td>hyderabad</td>\n",
       "      <td>Not Converted</td>\n",
       "      <td>14/8/prema:rnr 16/8/prema: gave info, he said ...</td>\n",
       "      <td>hyderabad Not Converted 14/8/prema:rnr 16/8/pr...</td>\n",
       "    </tr>\n",
       "    <tr>\n",
       "      <th>...</th>\n",
       "      <td>...</td>\n",
       "      <td>...</td>\n",
       "      <td>...</td>\n",
       "      <td>...</td>\n",
       "      <td>...</td>\n",
       "    </tr>\n",
       "    <tr>\n",
       "      <th>996</th>\n",
       "      <td>vipin</td>\n",
       "      <td>bangalore</td>\n",
       "      <td>Not Converted</td>\n",
       "      <td>25/4/17(Surendra):please send me details tomor...</td>\n",
       "      <td>bangalore Not Converted 25/4/17(Surendra):plea...</td>\n",
       "    </tr>\n",
       "    <tr>\n",
       "      <th>997</th>\n",
       "      <td>dheeraj</td>\n",
       "      <td>chennai</td>\n",
       "      <td>Not Converted</td>\n",
       "      <td>24/4/17(prema): need CT, but our venue is far....</td>\n",
       "      <td>chennai Not Converted 24/4/17(prema): need CT,...</td>\n",
       "    </tr>\n",
       "    <tr>\n",
       "      <th>998</th>\n",
       "      <td>kuldeep singh</td>\n",
       "      <td>bangalore</td>\n",
       "      <td>Not Converted</td>\n",
       "      <td>24/Apr/moHan:intrstd in evng batch trail perd ...</td>\n",
       "      <td>bangalore Not Converted 24/Apr/moHan:intrstd i...</td>\n",
       "    </tr>\n",
       "    <tr>\n",
       "      <th>999</th>\n",
       "      <td>ankur sharma</td>\n",
       "      <td>bangalore</td>\n",
       "      <td>Not Converted</td>\n",
       "      <td>1/5/17(Surendra):please share me details 11/5/...</td>\n",
       "      <td>bangalore Not Converted 1/5/17(Surendra):pleas...</td>\n",
       "    </tr>\n",
       "    <tr>\n",
       "      <th>1000</th>\n",
       "      <td>Saugata Chakrabarti</td>\n",
       "      <td>bangalore</td>\n",
       "      <td>Not Converted</td>\n",
       "      <td>24/4/17(prema): shared details need only Cert....</td>\n",
       "      <td>bangalore Not Converted 24/4/17(prema): shared...</td>\n",
       "    </tr>\n",
       "  </tbody>\n",
       "</table>\n",
       "<p>1001 rows × 5 columns</p>\n",
       "</div>"
      ],
      "text/plain": [
       "                Lead Name   Location        Status   \\\n",
       "0                    Raja  hyderabad  Not Converted   \n",
       "1           Anirudh Reddy       pune  Not Converted   \n",
       "2            Sapna Dewani  bangalore      Converted   \n",
       "3                  suresh     mumbai  Not Converted   \n",
       "4           Akshay Shinde  hyderabad  Not Converted   \n",
       "...                   ...        ...            ...   \n",
       "996                 vipin  bangalore  Not Converted   \n",
       "997               dheeraj    chennai  Not Converted   \n",
       "998         kuldeep singh  bangalore  Not Converted   \n",
       "999          ankur sharma  bangalore  Not Converted   \n",
       "1000  Saugata Chakrabarti  bangalore  Not Converted   \n",
       "\n",
       "                                     Status information  \\\n",
       "0     14/8/prema: share me details, available in evn...   \n",
       "1     14/8/prema: cal me tmrw, shared details to ema...   \n",
       "2                                      16|AuG|moHan:rnr   \n",
       "3     14/8/17(Surendra):i want only Server 16|AuG|mo...   \n",
       "4     14/8/prema:rnr 16/8/prema: gave info, he said ...   \n",
       "...                                                 ...   \n",
       "996   25/4/17(Surendra):please send me details tomor...   \n",
       "997   24/4/17(prema): need CT, but our venue is far....   \n",
       "998   24/Apr/moHan:intrstd in evng batch trail perd ...   \n",
       "999   1/5/17(Surendra):please share me details 11/5/...   \n",
       "1000  24/4/17(prema): shared details need only Cert....   \n",
       "\n",
       "                                          Combined_Text  \n",
       "0     hyderabad Not Converted 14/8/prema: share me d...  \n",
       "1     pune Not Converted 14/8/prema: cal me tmrw, sh...  \n",
       "2                  bangalore Converted 16|AuG|moHan:rnr  \n",
       "3     mumbai Not Converted 14/8/17(Surendra):i want ...  \n",
       "4     hyderabad Not Converted 14/8/prema:rnr 16/8/pr...  \n",
       "...                                                 ...  \n",
       "996   bangalore Not Converted 25/4/17(Surendra):plea...  \n",
       "997   chennai Not Converted 24/4/17(prema): need CT,...  \n",
       "998   bangalore Not Converted 24/Apr/moHan:intrstd i...  \n",
       "999   bangalore Not Converted 1/5/17(Surendra):pleas...  \n",
       "1000  bangalore Not Converted 24/4/17(prema): shared...  \n",
       "\n",
       "[1001 rows x 5 columns]"
      ]
     },
     "execution_count": 195,
     "metadata": {},
     "output_type": "execute_result"
    }
   ],
   "source": [
    "leads\n"
   ]
  },
  {
   "cell_type": "code",
   "execution_count": 194,
   "id": "6e2d5d12",
   "metadata": {},
   "outputs": [
    {
     "data": {
      "text/plain": [
       "0       hyderabad Not Converted 14/8/prema: share me d...\n",
       "1       pune Not Converted 14/8/prema: cal me tmrw, sh...\n",
       "2                    bangalore Converted 16|AuG|moHan:rnr\n",
       "3       mumbai Not Converted 14/8/17(Surendra):i want ...\n",
       "4       hyderabad Not Converted 14/8/prema:rnr 16/8/pr...\n",
       "                              ...                        \n",
       "996     bangalore Not Converted 25/4/17(Surendra):plea...\n",
       "997     chennai Not Converted 24/4/17(prema): need CT,...\n",
       "998     bangalore Not Converted 24/Apr/moHan:intrstd i...\n",
       "999     bangalore Not Converted 1/5/17(Surendra):pleas...\n",
       "1000    bangalore Not Converted 24/4/17(prema): shared...\n",
       "Length: 1001, dtype: object"
      ]
     },
     "execution_count": 194,
     "metadata": {},
     "output_type": "execute_result"
    }
   ],
   "source": [
    "Combined_Text"
   ]
  },
  {
   "cell_type": "code",
   "execution_count": 247,
   "id": "c46ec34c",
   "metadata": {},
   "outputs": [
    {
     "data": {
      "text/plain": [
       "0"
      ]
     },
     "execution_count": 247,
     "metadata": {},
     "output_type": "execute_result"
    }
   ],
   "source": [
    "leads ['Combined_Text'].isnull().sum()"
   ]
  },
  {
   "cell_type": "code",
   "execution_count": 240,
   "id": "f6045665",
   "metadata": {},
   "outputs": [],
   "source": [
    "leads['Combined_Text'].fillna('not mentioned',inplace=True)"
   ]
  },
  {
   "cell_type": "code",
   "execution_count": 241,
   "id": "db4d48b2",
   "metadata": {},
   "outputs": [],
   "source": [
    "leads['Combined_Text'] = leads['Combined_Text'].str.strip()\n"
   ]
  },
  {
   "cell_type": "code",
   "execution_count": 242,
   "id": "65e15068",
   "metadata": {},
   "outputs": [
    {
     "name": "stderr",
     "output_type": "stream",
     "text": [
      "C:\\Users\\Shweta\\AppData\\Local\\Temp\\ipykernel_21300\\2739714447.py:1: FutureWarning: The default value of regex will change from True to False in a future version.\n",
      "  leads['Combined_Text']  = leads['Combined_Text'] .str.replace(r'\\s+', ' ')\n"
     ]
    }
   ],
   "source": [
    "leads['Combined_Text']  = leads['Combined_Text'] .str.replace(r'\\s+', ' ')\n"
   ]
  },
  {
   "cell_type": "code",
   "execution_count": 243,
   "id": "f9b240d1",
   "metadata": {},
   "outputs": [],
   "source": [
    "import numpy as np\n",
    "leads['Combined_Text'] = leads['Combined_Text'].replace('', np.nan)\n"
   ]
  },
  {
   "cell_type": "code",
   "execution_count": null,
   "id": "fbd5206d",
   "metadata": {},
   "outputs": [],
   "source": []
  },
  {
   "cell_type": "code",
   "execution_count": 250,
   "id": "6b7ee99c",
   "metadata": {},
   "outputs": [],
   "source": [
    "bag_words = CountVectorizer(analyzer = message_text_process).fit(leads['Combined_Text'])"
   ]
  },
  {
   "cell_type": "code",
   "execution_count": 249,
   "id": "a9bfae6c",
   "metadata": {},
   "outputs": [
    {
     "name": "stdout",
     "output_type": "stream",
     "text": [
      "0       hyderabad Not Converted 14/8/prema: share me d...\n",
      "1       pune Not Converted 14/8/prema: cal me tmrw, sh...\n",
      "2                    bangalore Converted 16|AuG|moHan:rnr\n",
      "3       mumbai Not Converted 14/8/17(Surendra):i want ...\n",
      "4       hyderabad Not Converted 14/8/prema:rnr 16/8/pr...\n",
      "                              ...                        \n",
      "996     bangalore Not Converted 25/4/17(Surendra):plea...\n",
      "997     chennai Not Converted 24/4/17(prema): need CT,...\n",
      "998     bangalore Not Converted 24/Apr/moHan:intrstd i...\n",
      "999     bangalore Not Converted 1/5/17(Surendra):pleas...\n",
      "1000    bangalore Not Converted 24/4/17(prema): shared...\n",
      "Name: Combined_Text, Length: 1001, dtype: object\n"
     ]
    }
   ],
   "source": [
    "print(leads['Combined_Text'])"
   ]
  },
  {
   "cell_type": "code",
   "execution_count": 179,
   "id": "1b832c0e",
   "metadata": {},
   "outputs": [
    {
     "data": {
      "text/plain": [
       "CountVectorizer(analyzer=<function message_text_process at 0x000001E158B02EE0>)"
      ]
     },
     "execution_count": 179,
     "metadata": {},
     "output_type": "execute_result"
    }
   ],
   "source": [
    "bag_words\n"
   ]
  },
  {
   "cell_type": "code",
   "execution_count": 251,
   "id": "ed01169a",
   "metadata": {},
   "outputs": [
    {
     "name": "stdout",
     "output_type": "stream",
     "text": [
      "3185\n"
     ]
    }
   ],
   "source": [
    "print(len(bag_words.vocabulary_))"
   ]
  },
  {
   "cell_type": "code",
   "execution_count": 253,
   "id": "cb6fbc2d",
   "metadata": {},
   "outputs": [],
   "source": [
    "message_bagwords = bag_words.transform(leads['Combined_Text'])"
   ]
  },
  {
   "cell_type": "code",
   "execution_count": 161,
   "id": "0da805b9",
   "metadata": {},
   "outputs": [
    {
     "data": {
      "text/plain": [
       "<3x3 sparse matrix of type '<class 'numpy.int64'>'\n",
       "\twith 4 stored elements in Compressed Sparse Row format>"
      ]
     },
     "execution_count": 161,
     "metadata": {},
     "output_type": "execute_result"
    }
   ],
   "source": [
    "message_bagwords"
   ]
  },
  {
   "cell_type": "code",
   "execution_count": 254,
   "id": "24dd5e11",
   "metadata": {},
   "outputs": [],
   "source": [
    "from sklearn.feature_extraction.text import TfidfTransformer\n",
    "tfidf_transformer = TfidfTransformer().fit(message_bagwords)"
   ]
  },
  {
   "cell_type": "code",
   "execution_count": 255,
   "id": "f9f85b0a",
   "metadata": {},
   "outputs": [],
   "source": [
    "message_tfidf = tfidf_transformer.transform(message_bagwords)"
   ]
  },
  {
   "cell_type": "code",
   "execution_count": 256,
   "id": "6b5d7f01",
   "metadata": {},
   "outputs": [
    {
     "name": "stdout",
     "output_type": "stream",
     "text": [
      "(1001, 3185)\n",
      "  (0, 3075)\t0.2542142556359904\n",
      "  (0, 2968)\t0.1830646144879076\n",
      "  (0, 2832)\t0.3152986951761907\n",
      "  (0, 2812)\t0.3731660145046911\n",
      "  (0, 2566)\t0.19196856037570362\n",
      "  (0, 2537)\t0.1389543392404843\n",
      "  (0, 2442)\t0.24003710902387346\n",
      "  (0, 2352)\t0.1259993396149884\n",
      "  (0, 2322)\t0.32075079050975697\n",
      "  (0, 2172)\t0.2639331098821091\n",
      "  (0, 1960)\t0.058590528595777\n",
      "  (0, 1882)\t0.38962249468325305\n",
      "  (0, 602)\t0.32075079050975697\n",
      "  (0, 356)\t0.32075079050975697\n",
      "  (1, 3053)\t0.1535995433978147\n",
      "  (1, 2969)\t0.10308940714391211\n",
      "  (1, 2968)\t0.13581456095391126\n",
      "  (1, 2919)\t0.1633612318020953\n",
      "  (1, 2886)\t0.2890586375810441\n",
      "  (1, 2864)\t0.1466442916769043\n",
      "  (1, 2714)\t0.17508517420141417\n",
      "  (1, 2643)\t0.17808211961616943\n",
      "  (1, 2546)\t0.1958104221294328\n",
      "  (1, 2413)\t0.5508043687781254\n",
      "  (1, 2352)\t0.18695633821054788\n",
      "  :\t:\n",
      "  (1000, 2493)\t0.1063796100776649\n",
      "  (1000, 2352)\t0.12493970353056107\n",
      "  (1000, 2219)\t0.07850666380170676\n",
      "  (1000, 2217)\t0.2084923499108617\n",
      "  (1000, 2182)\t0.05868272591725233\n",
      "  (1000, 2177)\t0.17951697736997752\n",
      "  (1000, 2040)\t0.1030391283375561\n",
      "  (1000, 1988)\t0.19317291314109605\n",
      "  (1000, 1960)\t0.029048895394307467\n",
      "  (1000, 1953)\t0.20467243667042662\n",
      "  (1000, 1834)\t0.1439773467371036\n",
      "  (1000, 1743)\t0.20467243667042662\n",
      "  (1000, 1553)\t0.1735143478225437\n",
      "  (1000, 1374)\t0.20467243667042662\n",
      "  (1000, 1228)\t0.1735143478225437\n",
      "  (1000, 1193)\t0.14752713802277104\n",
      "  (1000, 1004)\t0.1691424318813501\n",
      "  (1000, 992)\t0.18501387135187425\n",
      "  (1000, 926)\t0.17868522687065394\n",
      "  (1000, 855)\t0.15385578250399137\n",
      "  (1000, 456)\t0.14752713802277104\n",
      "  (1000, 328)\t0.19317291314109605\n",
      "  (1000, 250)\t0.20467243667042662\n",
      "  (1000, 179)\t0.20467243667042662\n",
      "  (1000, 101)\t0.20467243667042662\n"
     ]
    }
   ],
   "source": [
    "print(message_tfidf.shape)\n",
    "print(message_tfidf)"
   ]
  },
  {
   "cell_type": "code",
   "execution_count": 257,
   "id": "8c47ec0a",
   "metadata": {},
   "outputs": [],
   "source": [
    "from sklearn.model_selection import train_test_split\n",
    "X_train, X_test, y_train, y_test = train_test_split(message_tfidf,leads['Status '], test_size = 0.2)"
   ]
  },
  {
   "cell_type": "code",
   "execution_count": 84,
   "id": "50008a54",
   "metadata": {},
   "outputs": [],
   "source": [
    "# from sklearn.naive_bayes import MultinomialNB\n",
    "# spam_detect = MultinomialNB().fit(X_train,y_train)"
   ]
  },
  {
   "cell_type": "code",
   "execution_count": 285,
   "id": "d66e1958",
   "metadata": {},
   "outputs": [],
   "source": [
    "from sklearn import svm\n",
    "leads_status = svm.SVC(kernel='linear', C=10,gamma= 15).fit(X_train, y_train)"
   ]
  },
  {
   "cell_type": "code",
   "execution_count": 286,
   "id": "dda7b7a9",
   "metadata": {},
   "outputs": [],
   "source": [
    "predicted = leads_status.predict(X_test)"
   ]
  },
  {
   "cell_type": "code",
   "execution_count": 287,
   "id": "a5103233",
   "metadata": {},
   "outputs": [
    {
     "data": {
      "text/plain": [
       "array(['Not Converted', 'Not Converted', 'Not Converted', 'Not Converted',\n",
       "       'Not Converted', 'Not Converted', 'Not Converted', 'Not Converted',\n",
       "       'Not Converted', 'Not Converted', 'Not Converted', 'Not Converted',\n",
       "       'Not Converted', 'Not Converted', 'Not Converted', 'Converted',\n",
       "       'Not Converted', 'Not Converted', 'Not Converted', 'Not Converted',\n",
       "       'Not Converted', 'Not Converted', 'Not Converted', 'Not Converted',\n",
       "       'Not Converted', 'Not Converted', 'Not Converted', 'Not Converted',\n",
       "       'Not Converted', 'Not Converted', 'Not Converted', 'Not Converted',\n",
       "       'Not Converted', 'Not Converted', 'Not Converted', 'Not Converted',\n",
       "       'Not Converted', 'Not Converted', 'Not Converted', 'Not Converted',\n",
       "       'Not Converted', 'Not Converted', 'Not Converted', 'Not Converted',\n",
       "       'Not Converted', 'Not Converted', 'Not Converted', 'Not Converted',\n",
       "       'Not Converted', 'Not Converted', 'Not Converted', 'Not Converted',\n",
       "       'Not Converted', 'Not Converted', 'Not Converted', 'Not Converted',\n",
       "       'Not Converted', 'Not Converted', 'Not Converted', 'Not Converted',\n",
       "       'Not Converted', 'Not Converted', 'Not Converted', 'Not Converted',\n",
       "       'Not Converted', 'Not Converted', 'Not Converted', 'Not Converted',\n",
       "       'Not Converted', 'Not Converted', 'Not Converted', 'Not Converted',\n",
       "       'Not Converted', 'Not Converted', 'Not Converted', 'Not Converted',\n",
       "       'Not Converted', 'Not Converted', 'Not Converted', 'Not Converted',\n",
       "       'Not Converted', 'Not Converted', 'Not Converted', 'Not Converted',\n",
       "       'Not Converted', 'Not Converted', 'Not Converted', 'Not Converted',\n",
       "       'Not Converted', 'Not Converted', 'Not Converted', 'Not Converted',\n",
       "       'Not Converted', 'Not Converted', 'Not Converted', 'Not Converted',\n",
       "       'Not Converted', 'Not Converted', 'Not Converted', 'Not Converted',\n",
       "       'Not Converted', 'Not Converted', 'Not Converted', 'Not Converted',\n",
       "       'Not Converted', 'Not Converted', 'Not Converted', 'Not Converted',\n",
       "       'Not Converted', 'Not Converted', 'Not Converted', 'Not Converted',\n",
       "       'Not Converted', 'Not Converted', 'Not Converted', 'Not Converted',\n",
       "       'Not Converted', 'Not Converted', 'Not Converted', 'Not Converted',\n",
       "       'Not Converted', 'Not Converted', 'Not Converted', 'Not Converted',\n",
       "       'Not Converted', 'Not Converted', 'Not Converted', 'Not Converted',\n",
       "       'Not Converted', 'Not Converted', 'Not Converted', 'Not Converted',\n",
       "       'Not Converted', 'Not Converted', 'Not Converted', 'Not Converted',\n",
       "       'Converted', 'Not Converted', 'Not Converted', 'Not Converted',\n",
       "       'Not Converted', 'Not Converted', 'Not Converted', 'Not Converted',\n",
       "       'Not Converted', 'Not Converted', 'Not Converted', 'Not Converted',\n",
       "       'Not Converted', 'Not Converted', 'Not Converted', 'Not Converted',\n",
       "       'Not Converted', 'Not Converted', 'Not Converted', 'Not Converted',\n",
       "       'Not Converted', 'Not Converted', 'Not Converted', 'Not Converted',\n",
       "       'Converted', 'Not Converted', 'Not Converted', 'Not Converted',\n",
       "       'Not Converted', 'Not Converted', 'Not Converted', 'Not Converted',\n",
       "       'Not Converted', 'Not Converted', 'Converted', 'Not Converted',\n",
       "       'Not Converted', 'Not Converted', 'Not Converted', 'Not Converted',\n",
       "       'Not Converted', 'Not Converted', 'Not Converted', 'Not Converted',\n",
       "       'Not Converted', 'Not Converted', 'Not Converted', 'Not Converted',\n",
       "       'Not Converted', 'Not Converted', 'Not Converted', 'Not Converted',\n",
       "       'Not Converted', 'Not Converted', 'Not Converted', 'Not Converted',\n",
       "       'Not Converted', 'Not Converted', 'Not Converted', 'Not Converted',\n",
       "       'Not Converted', 'Not Converted', 'Not Converted', 'Not Converted',\n",
       "       'Not Converted'], dtype=object)"
      ]
     },
     "execution_count": 287,
     "metadata": {},
     "output_type": "execute_result"
    }
   ],
   "source": [
    "predicted\n"
   ]
  },
  {
   "cell_type": "code",
   "execution_count": 288,
   "id": "5d3eadac",
   "metadata": {},
   "outputs": [
    {
     "name": "stdout",
     "output_type": "stream",
     "text": [
      "               precision    recall  f1-score   support\n",
      "\n",
      "    Converted       0.75      0.10      0.18        29\n",
      "Not Converted       0.87      0.99      0.93       172\n",
      "\n",
      "     accuracy                           0.87       201\n",
      "    macro avg       0.81      0.55      0.55       201\n",
      " weighted avg       0.85      0.87      0.82       201\n",
      "\n",
      "[[  3  26]\n",
      " [  1 171]]\n"
     ]
    }
   ],
   "source": [
    "expected = y_test\n",
    "\n",
    "from sklearn import metrics\n",
    "print(metrics.classification_report(expected, predicted))\n",
    "print(metrics.confusion_matrix(expected, predicted))"
   ]
  },
  {
   "cell_type": "code",
   "execution_count": 289,
   "id": "54bed8a0",
   "metadata": {},
   "outputs": [
    {
     "data": {
      "text/plain": [
       "0.8656716417910447"
      ]
     },
     "execution_count": 289,
     "metadata": {},
     "output_type": "execute_result"
    }
   ],
   "source": [
    "from sklearn.metrics import accuracy_score\n",
    "\n",
    "accuracy_score(expected,predicted)"
   ]
  },
  {
   "cell_type": "code",
   "execution_count": 290,
   "id": "31d04f14",
   "metadata": {},
   "outputs": [
    {
     "data": {
      "text/plain": [
       "RandomForestClassifier()"
      ]
     },
     "execution_count": 290,
     "metadata": {},
     "output_type": "execute_result"
    }
   ],
   "source": [
    "from sklearn.ensemble import RandomForestClassifier\n",
    "classifier = RandomForestClassifier()\n",
    "classifier.fit(X_train, y_train)"
   ]
  },
  {
   "cell_type": "code",
   "execution_count": 291,
   "id": "cf6ae056",
   "metadata": {},
   "outputs": [],
   "source": [
    "y_pred = classifier.predict(X_test)"
   ]
  },
  {
   "cell_type": "code",
   "execution_count": 292,
   "id": "dcb39102",
   "metadata": {},
   "outputs": [],
   "source": [
    "from sklearn.metrics import accuracy_score\n",
    "score = accuracy_score(y_test, y_pred)"
   ]
  },
  {
   "cell_type": "code",
   "execution_count": 293,
   "id": "118d96b9",
   "metadata": {},
   "outputs": [
    {
     "data": {
      "text/plain": [
       "0.8557213930348259"
      ]
     },
     "execution_count": 293,
     "metadata": {},
     "output_type": "execute_result"
    }
   ],
   "source": [
    "score"
   ]
  },
  {
   "cell_type": "code",
   "execution_count": 294,
   "id": "eb85c7c4",
   "metadata": {},
   "outputs": [],
   "source": [
    "# pickling the model\n",
    "import pickle\n",
    "pickle_out = open(\"classifier.pkl\", \"wb\")\n",
    "pickle.dump(classifier, pickle_out)\n",
    "pickle_out.close()"
   ]
  },
  {
   "cell_type": "code",
   "execution_count": null,
   "id": "a4aac389",
   "metadata": {},
   "outputs": [],
   "source": []
  }
 ],
 "metadata": {
  "kernelspec": {
   "display_name": "Python 3 (ipykernel)",
   "language": "python",
   "name": "python3"
  },
  "language_info": {
   "codemirror_mode": {
    "name": "ipython",
    "version": 3
   },
   "file_extension": ".py",
   "mimetype": "text/x-python",
   "name": "python",
   "nbconvert_exporter": "python",
   "pygments_lexer": "ipython3",
   "version": "3.9.13"
  }
 },
 "nbformat": 4,
 "nbformat_minor": 5
}
