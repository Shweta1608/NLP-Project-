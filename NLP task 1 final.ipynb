{
 "cells": [
  {
   "cell_type": "code",
   "execution_count": 339,
   "id": "91112958",
   "metadata": {},
   "outputs": [],
   "source": [
    "import pandas as pd\n",
    "import string\n",
    "from nltk.corpus import stopwords"
   ]
  },
  {
   "cell_type": "code",
   "execution_count": 340,
   "id": "d9e40573",
   "metadata": {},
   "outputs": [],
   "source": [
    "import nltk"
   ]
  },
  {
   "cell_type": "code",
   "execution_count": 341,
   "id": "cceaea3f",
   "metadata": {},
   "outputs": [
    {
     "name": "stderr",
     "output_type": "stream",
     "text": [
      "[nltk_data] Downloading package stopwords to\n",
      "[nltk_data]     C:\\Users\\Shweta\\AppData\\Roaming\\nltk_data...\n",
      "[nltk_data]   Package stopwords is already up-to-date!\n"
     ]
    },
    {
     "data": {
      "text/plain": [
       "True"
      ]
     },
     "execution_count": 341,
     "metadata": {},
     "output_type": "execute_result"
    }
   ],
   "source": [
    "nltk.download ('stopwords')"
   ]
  },
  {
   "cell_type": "code",
   "execution_count": 342,
   "id": "1cb90f9c",
   "metadata": {},
   "outputs": [],
   "source": [
    "leads  = pd.read_excel(\"1000 leads.xlsx\")"
   ]
  },
  {
   "cell_type": "code",
   "execution_count": 343,
   "id": "a7f35df9",
   "metadata": {},
   "outputs": [
    {
     "data": {
      "text/html": [
       "<div>\n",
       "<style scoped>\n",
       "    .dataframe tbody tr th:only-of-type {\n",
       "        vertical-align: middle;\n",
       "    }\n",
       "\n",
       "    .dataframe tbody tr th {\n",
       "        vertical-align: top;\n",
       "    }\n",
       "\n",
       "    .dataframe thead th {\n",
       "        text-align: right;\n",
       "    }\n",
       "</style>\n",
       "<table border=\"1\" class=\"dataframe\">\n",
       "  <thead>\n",
       "    <tr style=\"text-align: right;\">\n",
       "      <th></th>\n",
       "      <th>Lead Name</th>\n",
       "      <th>Location</th>\n",
       "      <th>Status</th>\n",
       "      <th>Status information</th>\n",
       "    </tr>\n",
       "  </thead>\n",
       "  <tbody>\n",
       "    <tr>\n",
       "      <th>0</th>\n",
       "      <td>Raja</td>\n",
       "      <td>hyderabad</td>\n",
       "      <td>Not Converted</td>\n",
       "      <td>14/8/prema: share me details, available in evn...</td>\n",
       "    </tr>\n",
       "    <tr>\n",
       "      <th>1</th>\n",
       "      <td>Anirudh Reddy</td>\n",
       "      <td>pune</td>\n",
       "      <td>Not Converted</td>\n",
       "      <td>14/8/prema: cal me tmrw, shared details to ema...</td>\n",
       "    </tr>\n",
       "    <tr>\n",
       "      <th>2</th>\n",
       "      <td>Sapna Dewani</td>\n",
       "      <td>bangalore</td>\n",
       "      <td>Converted</td>\n",
       "      <td>16|AuG|moHan:rnr</td>\n",
       "    </tr>\n",
       "    <tr>\n",
       "      <th>3</th>\n",
       "      <td>suresh</td>\n",
       "      <td>mumbai</td>\n",
       "      <td>Not Converted</td>\n",
       "      <td>14/8/17(Surendra):i want only Server 16|AuG|mo...</td>\n",
       "    </tr>\n",
       "    <tr>\n",
       "      <th>4</th>\n",
       "      <td>Akshay Shinde</td>\n",
       "      <td>hyderabad</td>\n",
       "      <td>Not Converted</td>\n",
       "      <td>14/8/prema:rnr 16/8/prema: gave info, he said ...</td>\n",
       "    </tr>\n",
       "    <tr>\n",
       "      <th>...</th>\n",
       "      <td>...</td>\n",
       "      <td>...</td>\n",
       "      <td>...</td>\n",
       "      <td>...</td>\n",
       "    </tr>\n",
       "    <tr>\n",
       "      <th>996</th>\n",
       "      <td>vipin</td>\n",
       "      <td>bangalore</td>\n",
       "      <td>Not Converted</td>\n",
       "      <td>25/4/17(Surendra):please send me details tomor...</td>\n",
       "    </tr>\n",
       "    <tr>\n",
       "      <th>997</th>\n",
       "      <td>dheeraj</td>\n",
       "      <td>chennai</td>\n",
       "      <td>Not Converted</td>\n",
       "      <td>24/4/17(prema): need CT, but our venue is far....</td>\n",
       "    </tr>\n",
       "    <tr>\n",
       "      <th>998</th>\n",
       "      <td>kuldeep singh</td>\n",
       "      <td>bangalore</td>\n",
       "      <td>Not Converted</td>\n",
       "      <td>24/Apr/moHan:intrstd in evng batch trail perd ...</td>\n",
       "    </tr>\n",
       "    <tr>\n",
       "      <th>999</th>\n",
       "      <td>ankur sharma</td>\n",
       "      <td>bangalore</td>\n",
       "      <td>Not Converted</td>\n",
       "      <td>1/5/17(Surendra):please share me details 11/5/...</td>\n",
       "    </tr>\n",
       "    <tr>\n",
       "      <th>1000</th>\n",
       "      <td>Saugata Chakrabarti</td>\n",
       "      <td>bangalore</td>\n",
       "      <td>Not Converted</td>\n",
       "      <td>24/4/17(prema): shared details need only Cert....</td>\n",
       "    </tr>\n",
       "  </tbody>\n",
       "</table>\n",
       "<p>1001 rows × 4 columns</p>\n",
       "</div>"
      ],
      "text/plain": [
       "                Lead Name   Location        Status   \\\n",
       "0                    Raja  hyderabad  Not Converted   \n",
       "1           Anirudh Reddy       pune  Not Converted   \n",
       "2            Sapna Dewani  bangalore     Converted    \n",
       "3                  suresh     mumbai  Not Converted   \n",
       "4           Akshay Shinde  hyderabad  Not Converted   \n",
       "...                   ...        ...            ...   \n",
       "996                 vipin  bangalore  Not Converted   \n",
       "997               dheeraj    chennai  Not Converted   \n",
       "998         kuldeep singh  bangalore  Not Converted   \n",
       "999          ankur sharma  bangalore  Not Converted   \n",
       "1000  Saugata Chakrabarti  bangalore  Not Converted   \n",
       "\n",
       "                                     Status information  \n",
       "0     14/8/prema: share me details, available in evn...  \n",
       "1     14/8/prema: cal me tmrw, shared details to ema...  \n",
       "2                                      16|AuG|moHan:rnr  \n",
       "3     14/8/17(Surendra):i want only Server 16|AuG|mo...  \n",
       "4     14/8/prema:rnr 16/8/prema: gave info, he said ...  \n",
       "...                                                 ...  \n",
       "996   25/4/17(Surendra):please send me details tomor...  \n",
       "997   24/4/17(prema): need CT, but our venue is far....  \n",
       "998   24/Apr/moHan:intrstd in evng batch trail perd ...  \n",
       "999   1/5/17(Surendra):please share me details 11/5/...  \n",
       "1000  24/4/17(prema): shared details need only Cert....  \n",
       "\n",
       "[1001 rows x 4 columns]"
      ]
     },
     "execution_count": 343,
     "metadata": {},
     "output_type": "execute_result"
    }
   ],
   "source": [
    "leads"
   ]
  },
  {
   "cell_type": "code",
   "execution_count": 344,
   "id": "150160cb",
   "metadata": {},
   "outputs": [],
   "source": [
    "leads ['Status '].replace ('Conveted','Converted',inplace=True)\n",
    "leads ['Status '].replace ('NOt Converted','Not Converted',inplace=True)\n",
    "leads ['Status '].replace ('Converted ','Converted',inplace=True)\n",
    "leads ['Status '].replace ('Zero','No information',inplace=True)"
   ]
  },
  {
   "cell_type": "code",
   "execution_count": 345,
   "id": "a89870a5",
   "metadata": {},
   "outputs": [
    {
     "data": {
      "text/plain": [
       "array(['Not Converted', 'Converted', nan], dtype=object)"
      ]
     },
     "execution_count": 345,
     "metadata": {},
     "output_type": "execute_result"
    }
   ],
   "source": [
    "leads ['Status '].unique()"
   ]
  },
  {
   "cell_type": "code",
   "execution_count": 346,
   "id": "d1f540a6",
   "metadata": {},
   "outputs": [
    {
     "data": {
      "text/plain": [
       "3"
      ]
     },
     "execution_count": 346,
     "metadata": {},
     "output_type": "execute_result"
    }
   ],
   "source": [
    "leads ['Status '].isnull().sum()"
   ]
  },
  {
   "cell_type": "code",
   "execution_count": 347,
   "id": "03c406d3",
   "metadata": {},
   "outputs": [],
   "source": [
    "leads['Status '].fillna('not mentioned',inplace=True)"
   ]
  },
  {
   "cell_type": "code",
   "execution_count": 348,
   "id": "ce8ecbc8",
   "metadata": {},
   "outputs": [
    {
     "data": {
      "text/plain": [
       "24"
      ]
     },
     "execution_count": 348,
     "metadata": {},
     "output_type": "execute_result"
    }
   ],
   "source": [
    "leads['Status information'].isnull().sum()"
   ]
  },
  {
   "cell_type": "code",
   "execution_count": 349,
   "id": "f1543b2a",
   "metadata": {},
   "outputs": [],
   "source": [
    "leads['Status information'].fillna('not mentioned',inplace=True)"
   ]
  },
  {
   "cell_type": "code",
   "execution_count": 350,
   "id": "85f0bd2f",
   "metadata": {},
   "outputs": [
    {
     "data": {
      "text/html": [
       "<div>\n",
       "<style scoped>\n",
       "    .dataframe tbody tr th:only-of-type {\n",
       "        vertical-align: middle;\n",
       "    }\n",
       "\n",
       "    .dataframe tbody tr th {\n",
       "        vertical-align: top;\n",
       "    }\n",
       "\n",
       "    .dataframe thead tr th {\n",
       "        text-align: left;\n",
       "    }\n",
       "\n",
       "    .dataframe thead tr:last-of-type th {\n",
       "        text-align: right;\n",
       "    }\n",
       "</style>\n",
       "<table border=\"1\" class=\"dataframe\">\n",
       "  <thead>\n",
       "    <tr>\n",
       "      <th></th>\n",
       "      <th colspan=\"4\" halign=\"left\">Lead Name</th>\n",
       "      <th colspan=\"4\" halign=\"left\">Location</th>\n",
       "      <th colspan=\"4\" halign=\"left\">Status information</th>\n",
       "    </tr>\n",
       "    <tr>\n",
       "      <th></th>\n",
       "      <th>count</th>\n",
       "      <th>unique</th>\n",
       "      <th>top</th>\n",
       "      <th>freq</th>\n",
       "      <th>count</th>\n",
       "      <th>unique</th>\n",
       "      <th>top</th>\n",
       "      <th>freq</th>\n",
       "      <th>count</th>\n",
       "      <th>unique</th>\n",
       "      <th>top</th>\n",
       "      <th>freq</th>\n",
       "    </tr>\n",
       "    <tr>\n",
       "      <th>Status</th>\n",
       "      <th></th>\n",
       "      <th></th>\n",
       "      <th></th>\n",
       "      <th></th>\n",
       "      <th></th>\n",
       "      <th></th>\n",
       "      <th></th>\n",
       "      <th></th>\n",
       "      <th></th>\n",
       "      <th></th>\n",
       "      <th></th>\n",
       "      <th></th>\n",
       "    </tr>\n",
       "  </thead>\n",
       "  <tbody>\n",
       "    <tr>\n",
       "      <th>Converted</th>\n",
       "      <td>131</td>\n",
       "      <td>128</td>\n",
       "      <td>Rashmi</td>\n",
       "      <td>2</td>\n",
       "      <td>128</td>\n",
       "      <td>19</td>\n",
       "      <td>bangalore</td>\n",
       "      <td>45</td>\n",
       "      <td>131</td>\n",
       "      <td>130</td>\n",
       "      <td>not mentioned</td>\n",
       "      <td>2</td>\n",
       "    </tr>\n",
       "    <tr>\n",
       "      <th>Not Converted</th>\n",
       "      <td>867</td>\n",
       "      <td>765</td>\n",
       "      <td>Suresh</td>\n",
       "      <td>5</td>\n",
       "      <td>849</td>\n",
       "      <td>51</td>\n",
       "      <td>bangalore</td>\n",
       "      <td>293</td>\n",
       "      <td>867</td>\n",
       "      <td>841</td>\n",
       "      <td>not mentioned</td>\n",
       "      <td>22</td>\n",
       "    </tr>\n",
       "    <tr>\n",
       "      <th>not mentioned</th>\n",
       "      <td>3</td>\n",
       "      <td>3</td>\n",
       "      <td>Vaijayanthi</td>\n",
       "      <td>1</td>\n",
       "      <td>3</td>\n",
       "      <td>3</td>\n",
       "      <td>hyderabad</td>\n",
       "      <td>1</td>\n",
       "      <td>3</td>\n",
       "      <td>3</td>\n",
       "      <td>17/JulY/moHan:need cls room 20/JulY/moHan:not now</td>\n",
       "      <td>1</td>\n",
       "    </tr>\n",
       "  </tbody>\n",
       "</table>\n",
       "</div>"
      ],
      "text/plain": [
       "              Lead Name                          Location                    \\\n",
       "                  count unique          top freq    count unique        top   \n",
       "Status                                                                        \n",
       "Converted           131    128       Rashmi    2      128     19  bangalore   \n",
       "Not Converted       867    765       Suresh    5      849     51  bangalore   \n",
       "not mentioned         3      3  Vaijayanthi    1        3      3  hyderabad   \n",
       "\n",
       "                   Status information         \\\n",
       "              freq              count unique   \n",
       "Status                                         \n",
       "Converted       45                131    130   \n",
       "Not Converted  293                867    841   \n",
       "not mentioned    1                  3      3   \n",
       "\n",
       "                                                                       \n",
       "                                                             top freq  \n",
       "Status                                                                 \n",
       "Converted                                          not mentioned    2  \n",
       "Not Converted                                      not mentioned   22  \n",
       "not mentioned  17/JulY/moHan:need cls room 20/JulY/moHan:not now    1  "
      ]
     },
     "execution_count": 350,
     "metadata": {},
     "output_type": "execute_result"
    }
   ],
   "source": [
    "leads.groupby('Status ').describe()"
   ]
  },
  {
   "cell_type": "code",
   "execution_count": 351,
   "id": "562fc2c2",
   "metadata": {},
   "outputs": [],
   "source": [
    "def message_text_process(mess):\n",
    "    no_punctuation = [char for char in mess if char not in string.punctuation]\n",
    "    no_punctuation = ''.join(no_punctuation)\n",
    "    return [word for word in no_punctuation.split() if word.lower() \n",
    "            not in stopwords.words('english')]"
   ]
  },
  {
   "cell_type": "code",
   "execution_count": 353,
   "id": "4f280bbf",
   "metadata": {},
   "outputs": [
    {
     "data": {
      "text/plain": [
       "0    [148prema, share, details, available, evng, 18...\n",
       "1    [148prema, cal, tmrw, shared, details, email, ...\n",
       "2                                      [16AuGmoHanrnr]\n",
       "3    [14817Surendrai, want, Server, 16AuGmoHancal, ...\n",
       "4    [148premarnr, 168prema, gave, info, said, reve...\n",
       "Name: Status information, dtype: object"
      ]
     },
     "execution_count": 353,
     "metadata": {},
     "output_type": "execute_result"
    }
   ],
   "source": [
    "leads['Status information'].head(5).apply(message_text_process)"
   ]
  },
  {
   "cell_type": "code",
   "execution_count": 354,
   "id": "80f2148d",
   "metadata": {},
   "outputs": [],
   "source": [
    "from sklearn.feature_extraction.text import CountVectorizer #DTM"
   ]
  },
  {
   "cell_type": "code",
   "execution_count": 355,
   "id": "c29f1d82",
   "metadata": {},
   "outputs": [],
   "source": [
    "bag_words = CountVectorizer(analyzer = message_text_process).fit(leads['Status information'])"
   ]
  },
  {
   "cell_type": "code",
   "execution_count": 356,
   "id": "2086ca3d",
   "metadata": {},
   "outputs": [],
   "source": [
    "message_bagwords = bag_words.transform(leads['Status information'])"
   ]
  },
  {
   "cell_type": "code",
   "execution_count": 357,
   "id": "23ddc2d6",
   "metadata": {},
   "outputs": [],
   "source": [
    "from sklearn.feature_extraction.text import TfidfTransformer\n",
    "tfidf_transformer = TfidfTransformer().fit(message_bagwords)"
   ]
  },
  {
   "cell_type": "code",
   "execution_count": 210,
   "id": "f722e726",
   "metadata": {},
   "outputs": [
    {
     "data": {
      "text/plain": [
       "TfidfTransformer()"
      ]
     },
     "execution_count": 210,
     "metadata": {},
     "output_type": "execute_result"
    }
   ],
   "source": [
    "tfidf_transformer"
   ]
  },
  {
   "cell_type": "code",
   "execution_count": 211,
   "id": "1cc2e1aa",
   "metadata": {},
   "outputs": [
    {
     "data": {
      "text/plain": [
       "CountVectorizer(analyzer=<function message_text_process at 0x0000020327F69C10>)"
      ]
     },
     "execution_count": 211,
     "metadata": {},
     "output_type": "execute_result"
    }
   ],
   "source": [
    "bag_words"
   ]
  },
  {
   "cell_type": "code",
   "execution_count": 358,
   "id": "51f13048",
   "metadata": {},
   "outputs": [],
   "source": [
    "message_tfidf = tfidf_transformer.transform(message_bagwords)"
   ]
  },
  {
   "cell_type": "code",
   "execution_count": 324,
   "id": "00ff22aa",
   "metadata": {},
   "outputs": [
    {
     "name": "stdout",
     "output_type": "stream",
     "text": [
      "(1001, 3184)\n",
      "  (0, 3074)\t0.2584369209100249\n",
      "  (0, 2968)\t0.1845545751797856\n",
      "  (0, 2829)\t0.3205360129959093\n",
      "  (0, 2809)\t0.3793645463964475\n",
      "  (0, 2573)\t0.1939457005797172\n",
      "  (0, 2454)\t0.24125452603846578\n",
      "  (0, 2364)\t0.12637893920071414\n",
      "  (0, 2333)\t0.3205360129959093\n",
      "  (0, 2184)\t0.2683172116901641\n",
      "  (0, 1906)\t0.39609437948831866\n",
      "  (0, 609)\t0.3260786712036078\n",
      "  (0, 361)\t0.3205360129959093\n",
      "  (1, 3052)\t0.1552216677595328\n",
      "  (1, 2969)\t0.1031596387293627\n",
      "  (1, 2968)\t0.1366187113801645\n",
      "  (1, 2918)\t0.1649734814716771\n",
      "  (1, 2885)\t0.29321355841709357\n",
      "  (1, 2713)\t0.17568823481685542\n",
      "  (1, 2643)\t0.18064186706226892\n",
      "  (1, 2553)\t0.19862499570394887\n",
      "  (1, 2425)\t0.5587216154917154\n",
      "  (1, 2364)\t0.18710701484776682\n",
      "  (1, 2251)\t0.12966019504258214\n",
      "  (1, 2244)\t0.2808291012103831\n",
      "  (1, 2228)\t0.1582333227419244\n",
      "  :\t:\n",
      "  (1000, 2574)\t0.1858783652405565\n",
      "  (1000, 2553)\t0.1314681752647276\n",
      "  (1000, 2505)\t0.10643490459555219\n",
      "  (1000, 2364)\t0.12384452286121383\n",
      "  (1000, 2230)\t0.07837793576593804\n",
      "  (1000, 2228)\t0.2094665490939713\n",
      "  (1000, 2189)\t0.1798623836983286\n",
      "  (1000, 2058)\t0.10198000538792926\n",
      "  (1000, 2009)\t0.19407553088348042\n",
      "  (1000, 1976)\t0.20562878696670667\n",
      "  (1000, 1855)\t0.14465009378819466\n",
      "  (1000, 1763)\t0.20562878696670667\n",
      "  (1000, 1571)\t0.17432510915733027\n",
      "  (1000, 1390)\t0.20562878696670667\n",
      "  (1000, 1242)\t0.17432510915733027\n",
      "  (1000, 1207)\t0.1463775217882562\n",
      "  (1000, 1017)\t0.16993276504723573\n",
      "  (1000, 1005)\t0.1858783652405565\n",
      "  (1000, 939)\t0.17952014960103502\n",
      "  (1000, 867)\t0.1545746874311801\n",
      "  (1000, 462)\t0.1482164717916586\n",
      "  (1000, 333)\t0.19407553088348042\n",
      "  (1000, 254)\t0.20562878696670667\n",
      "  (1000, 182)\t0.20562878696670667\n",
      "  (1000, 104)\t0.20562878696670667\n"
     ]
    }
   ],
   "source": [
    "print(message_tfidf.shape)\n",
    "print(message_tfidf)"
   ]
  },
  {
   "cell_type": "code",
   "execution_count": 359,
   "id": "8e07f4fd",
   "metadata": {},
   "outputs": [],
   "source": [
    "from sklearn.model_selection import train_test_split\n",
    "X_train, X_test, y_train, y_test = train_test_split(message_tfidf,leads['Status '] , test_size = 0.2 , random_state=1)"
   ]
  },
  {
   "cell_type": "code",
   "execution_count": 360,
   "id": "ac3752ca",
   "metadata": {},
   "outputs": [
    {
     "data": {
      "text/html": [
       "<div>\n",
       "<style scoped>\n",
       "    .dataframe tbody tr th:only-of-type {\n",
       "        vertical-align: middle;\n",
       "    }\n",
       "\n",
       "    .dataframe tbody tr th {\n",
       "        vertical-align: top;\n",
       "    }\n",
       "\n",
       "    .dataframe thead th {\n",
       "        text-align: right;\n",
       "    }\n",
       "</style>\n",
       "<table border=\"1\" class=\"dataframe\">\n",
       "  <thead>\n",
       "    <tr style=\"text-align: right;\">\n",
       "      <th></th>\n",
       "      <th>Lead Name</th>\n",
       "      <th>Location</th>\n",
       "      <th>Status</th>\n",
       "      <th>Status information</th>\n",
       "    </tr>\n",
       "  </thead>\n",
       "  <tbody>\n",
       "    <tr>\n",
       "      <th>0</th>\n",
       "      <td>Raja</td>\n",
       "      <td>hyderabad</td>\n",
       "      <td>Not Converted</td>\n",
       "      <td>14/8/prema: share me details, available in evn...</td>\n",
       "    </tr>\n",
       "    <tr>\n",
       "      <th>1</th>\n",
       "      <td>Anirudh Reddy</td>\n",
       "      <td>pune</td>\n",
       "      <td>Not Converted</td>\n",
       "      <td>14/8/prema: cal me tmrw, shared details to ema...</td>\n",
       "    </tr>\n",
       "    <tr>\n",
       "      <th>2</th>\n",
       "      <td>Sapna Dewani</td>\n",
       "      <td>bangalore</td>\n",
       "      <td>Converted</td>\n",
       "      <td>16|AuG|moHan:rnr</td>\n",
       "    </tr>\n",
       "    <tr>\n",
       "      <th>3</th>\n",
       "      <td>suresh</td>\n",
       "      <td>mumbai</td>\n",
       "      <td>Not Converted</td>\n",
       "      <td>14/8/17(Surendra):i want only Server 16|AuG|mo...</td>\n",
       "    </tr>\n",
       "    <tr>\n",
       "      <th>4</th>\n",
       "      <td>Akshay Shinde</td>\n",
       "      <td>hyderabad</td>\n",
       "      <td>Not Converted</td>\n",
       "      <td>14/8/prema:rnr 16/8/prema: gave info, he said ...</td>\n",
       "    </tr>\n",
       "  </tbody>\n",
       "</table>\n",
       "</div>"
      ],
      "text/plain": [
       "       Lead Name   Location        Status   \\\n",
       "0           Raja  hyderabad  Not Converted   \n",
       "1  Anirudh Reddy       pune  Not Converted   \n",
       "2   Sapna Dewani  bangalore      Converted   \n",
       "3         suresh     mumbai  Not Converted   \n",
       "4  Akshay Shinde  hyderabad  Not Converted   \n",
       "\n",
       "                                  Status information  \n",
       "0  14/8/prema: share me details, available in evn...  \n",
       "1  14/8/prema: cal me tmrw, shared details to ema...  \n",
       "2                                   16|AuG|moHan:rnr  \n",
       "3  14/8/17(Surendra):i want only Server 16|AuG|mo...  \n",
       "4  14/8/prema:rnr 16/8/prema: gave info, he said ...  "
      ]
     },
     "execution_count": 360,
     "metadata": {},
     "output_type": "execute_result"
    }
   ],
   "source": [
    "leads.head ()"
   ]
  },
  {
   "cell_type": "code",
   "execution_count": 89,
   "id": "549e3f6a",
   "metadata": {},
   "outputs": [],
   "source": [
    "# from sklearn.naive_bayes import MultinomialNB\n",
    "# leads_status = MultinomialNB().fit(X_train,y_train)"
   ]
  },
  {
   "cell_type": "code",
   "execution_count": 361,
   "id": "5a0eaef0",
   "metadata": {},
   "outputs": [],
   "source": [
    "from sklearn import svm\n",
    "leads_status = svm.SVC(kernel='linear', C=5,gamma= 10).fit(X_train, y_train)"
   ]
  },
  {
   "cell_type": "code",
   "execution_count": null,
   "id": "1d65971b",
   "metadata": {},
   "outputs": [],
   "source": []
  },
  {
   "cell_type": "code",
   "execution_count": null,
   "id": "91df9e44",
   "metadata": {},
   "outputs": [],
   "source": []
  },
  {
   "cell_type": "code",
   "execution_count": 362,
   "id": "5b7c4813",
   "metadata": {},
   "outputs": [],
   "source": [
    "predicted = leads_status.predict(X_test)"
   ]
  },
  {
   "cell_type": "code",
   "execution_count": null,
   "id": "326cc754",
   "metadata": {},
   "outputs": [],
   "source": []
  },
  {
   "cell_type": "code",
   "execution_count": null,
   "id": "6c6983bd",
   "metadata": {},
   "outputs": [],
   "source": []
  },
  {
   "cell_type": "code",
   "execution_count": null,
   "id": "93272ffe",
   "metadata": {},
   "outputs": [],
   "source": []
  },
  {
   "cell_type": "code",
   "execution_count": null,
   "id": "56b1921e",
   "metadata": {},
   "outputs": [],
   "source": [
    "\n"
   ]
  },
  {
   "cell_type": "code",
   "execution_count": null,
   "id": "945b6729",
   "metadata": {},
   "outputs": [],
   "source": []
  },
  {
   "cell_type": "code",
   "execution_count": 363,
   "id": "f01af35e",
   "metadata": {},
   "outputs": [
    {
     "data": {
      "text/plain": [
       "array(['Not Converted', 'Not Converted', 'Not Converted', 'Not Converted',\n",
       "       'Not Converted', 'Not Converted', 'Not Converted', 'Not Converted',\n",
       "       'Not Converted', 'Not Converted', 'Not Converted', 'Not Converted',\n",
       "       'Not Converted', 'Not Converted', 'Not Converted', 'Not Converted',\n",
       "       'Not Converted', 'Not Converted', 'Not Converted', 'Not Converted',\n",
       "       'Not Converted', 'Not Converted', 'Not Converted', 'Not Converted',\n",
       "       'Not Converted', 'Not Converted', 'Not Converted', 'Not Converted',\n",
       "       'Not Converted', 'Not Converted', 'Not Converted', 'Not Converted',\n",
       "       'Not Converted', 'Not Converted', 'Not Converted', 'Not Converted',\n",
       "       'Not Converted', 'Not Converted', 'Not Converted', 'Not Converted',\n",
       "       'Not Converted', 'Not Converted', 'Not Converted', 'Not Converted',\n",
       "       'Not Converted', 'Not Converted', 'Not Converted', 'Not Converted',\n",
       "       'Not Converted', 'Not Converted', 'Not Converted', 'Not Converted',\n",
       "       'Not Converted', 'Not Converted', 'Not Converted', 'Not Converted',\n",
       "       'Not Converted', 'Not Converted', 'Not Converted', 'Not Converted',\n",
       "       'Not Converted', 'Not Converted', 'Not Converted', 'Not Converted',\n",
       "       'Not Converted', 'Not Converted', 'Not Converted', 'Not Converted',\n",
       "       'Not Converted', 'Not Converted', 'Not Converted', 'Not Converted',\n",
       "       'Not Converted', 'Converted', 'Not Converted', 'Not Converted',\n",
       "       'Not Converted', 'Converted', 'Not Converted', 'Not Converted',\n",
       "       'Not Converted', 'Not Converted', 'Not Converted', 'Not Converted',\n",
       "       'Not Converted', 'Not Converted', 'Not Converted', 'Not Converted',\n",
       "       'Not Converted', 'Not Converted', 'Not Converted', 'Not Converted',\n",
       "       'Not Converted', 'Not Converted', 'Not Converted', 'Not Converted',\n",
       "       'Not Converted', 'Not Converted', 'Converted', 'Not Converted',\n",
       "       'Not Converted', 'Not Converted', 'Not Converted', 'Not Converted',\n",
       "       'Not Converted', 'Not Converted', 'Not Converted', 'Not Converted',\n",
       "       'Not Converted', 'Not Converted', 'Not Converted', 'Not Converted',\n",
       "       'Not Converted', 'Not Converted', 'Not Converted', 'Not Converted',\n",
       "       'Not Converted', 'Not Converted', 'Not Converted', 'Not Converted',\n",
       "       'Not Converted', 'Not Converted', 'Not Converted', 'Not Converted',\n",
       "       'Not Converted', 'Not Converted', 'Not Converted', 'Not Converted',\n",
       "       'Not Converted', 'Not Converted', 'Not Converted', 'Not Converted',\n",
       "       'Not Converted', 'Not Converted', 'Not Converted', 'Not Converted',\n",
       "       'Not Converted', 'Not Converted', 'Not Converted', 'Not Converted',\n",
       "       'Not Converted', 'Not Converted', 'Not Converted', 'Not Converted',\n",
       "       'Not Converted', 'Not Converted', 'Not Converted', 'Not Converted',\n",
       "       'Not Converted', 'Not Converted', 'Not Converted', 'Not Converted',\n",
       "       'Not Converted', 'Not Converted', 'Not Converted', 'Not Converted',\n",
       "       'Not Converted', 'Not Converted', 'Not Converted', 'Not Converted',\n",
       "       'Not Converted', 'Not Converted', 'Not Converted', 'Not Converted',\n",
       "       'Not Converted', 'Not Converted', 'Not Converted', 'Not Converted',\n",
       "       'Not Converted', 'Not Converted', 'Not Converted', 'Converted',\n",
       "       'Not Converted', 'Not Converted', 'Not Converted', 'Not Converted',\n",
       "       'Not Converted', 'Not Converted', 'Not Converted', 'Not Converted',\n",
       "       'Converted', 'Not Converted', 'Not Converted', 'Not Converted',\n",
       "       'Not Converted', 'Converted', 'Not Converted', 'Not Converted',\n",
       "       'Not Converted', 'Not Converted', 'Not Converted', 'Not Converted',\n",
       "       'Not Converted', 'Converted', 'Not Converted', 'Not Converted',\n",
       "       'Not Converted', 'Not Converted', 'Not Converted', 'Not Converted',\n",
       "       'Not Converted'], dtype=object)"
      ]
     },
     "execution_count": 363,
     "metadata": {},
     "output_type": "execute_result"
    }
   ],
   "source": [
    "predicted"
   ]
  },
  {
   "cell_type": "code",
   "execution_count": 364,
   "id": "a1ed156f",
   "metadata": {},
   "outputs": [
    {
     "name": "stdout",
     "output_type": "stream",
     "text": [
      "               precision    recall  f1-score   support\n",
      "\n",
      "    Converted       0.43      0.12      0.19        25\n",
      "Not Converted       0.88      0.98      0.92       174\n",
      "not mentioned       0.00      0.00      0.00         2\n",
      "\n",
      "     accuracy                           0.86       201\n",
      "    macro avg       0.43      0.37      0.37       201\n",
      " weighted avg       0.81      0.86      0.82       201\n",
      "\n",
      "[[  3  22   0]\n",
      " [  4 170   0]\n",
      " [  0   2   0]]\n"
     ]
    },
    {
     "name": "stderr",
     "output_type": "stream",
     "text": [
      "C:\\Users\\Shweta\\anaconda3\\lib\\site-packages\\sklearn\\metrics\\_classification.py:1318: UndefinedMetricWarning: Precision and F-score are ill-defined and being set to 0.0 in labels with no predicted samples. Use `zero_division` parameter to control this behavior.\n",
      "  _warn_prf(average, modifier, msg_start, len(result))\n",
      "C:\\Users\\Shweta\\anaconda3\\lib\\site-packages\\sklearn\\metrics\\_classification.py:1318: UndefinedMetricWarning: Precision and F-score are ill-defined and being set to 0.0 in labels with no predicted samples. Use `zero_division` parameter to control this behavior.\n",
      "  _warn_prf(average, modifier, msg_start, len(result))\n",
      "C:\\Users\\Shweta\\anaconda3\\lib\\site-packages\\sklearn\\metrics\\_classification.py:1318: UndefinedMetricWarning: Precision and F-score are ill-defined and being set to 0.0 in labels with no predicted samples. Use `zero_division` parameter to control this behavior.\n",
      "  _warn_prf(average, modifier, msg_start, len(result))\n"
     ]
    }
   ],
   "source": [
    "expected = y_test\n",
    "\n",
    "from sklearn import metrics\n",
    "print(metrics.classification_report(expected, predicted))\n",
    "print(metrics.confusion_matrix(expected, predicted))"
   ]
  },
  {
   "cell_type": "code",
   "execution_count": 365,
   "id": "bc2d27d8",
   "metadata": {},
   "outputs": [
    {
     "data": {
      "text/plain": [
       "0.8606965174129353"
      ]
     },
     "execution_count": 365,
     "metadata": {},
     "output_type": "execute_result"
    }
   ],
   "source": [
    "from sklearn.metrics import accuracy_score\n",
    "\n",
    "accuracy_score(expected,predicted)"
   ]
  },
  {
   "cell_type": "code",
   "execution_count": 366,
   "id": "cbe1e5c5",
   "metadata": {},
   "outputs": [
    {
     "data": {
      "text/plain": [
       "RandomForestClassifier()"
      ]
     },
     "execution_count": 366,
     "metadata": {},
     "output_type": "execute_result"
    }
   ],
   "source": [
    "from sklearn.ensemble import RandomForestClassifier\n",
    "classifier = RandomForestClassifier()\n",
    "classifier.fit(X_train, y_train)"
   ]
  },
  {
   "cell_type": "code",
   "execution_count": 44,
   "id": "caa943aa",
   "metadata": {},
   "outputs": [],
   "source": [
    "# from sklearn.svm import SVC\n",
    "# classifier = SVCClassifier()\n",
    "# classifier.fit(X_train, y_train)"
   ]
  },
  {
   "cell_type": "code",
   "execution_count": 367,
   "id": "2828b4a9",
   "metadata": {},
   "outputs": [],
   "source": [
    "y_pred = classifier.predict(X_test)"
   ]
  },
  {
   "cell_type": "code",
   "execution_count": 368,
   "id": "c25fed90",
   "metadata": {},
   "outputs": [],
   "source": [
    "from sklearn.metrics import accuracy_score\n",
    "score = accuracy_score(y_test, y_pred)"
   ]
  },
  {
   "cell_type": "code",
   "execution_count": 369,
   "id": "8817319d",
   "metadata": {},
   "outputs": [
    {
     "data": {
      "text/plain": [
       "0.8656716417910447"
      ]
     },
     "execution_count": 369,
     "metadata": {},
     "output_type": "execute_result"
    }
   ],
   "source": [
    "score"
   ]
  },
  {
   "cell_type": "code",
   "execution_count": 370,
   "id": "6363bc82",
   "metadata": {},
   "outputs": [],
   "source": [
    "# pickling the model\n",
    "import pickle\n",
    "pickle_out = open(\"classifier.pkl\", \"wb\")\n",
    "pickle.dump(classifier, pickle_out)\n",
    "pickle_out.close()"
   ]
  },
  {
   "cell_type": "code",
   "execution_count": 371,
   "id": "a304916c",
   "metadata": {},
   "outputs": [
    {
     "data": {
      "text/plain": [
       "0       Not Converted\n",
       "1       Not Converted\n",
       "2           Converted\n",
       "3       Not Converted\n",
       "4       Not Converted\n",
       "            ...      \n",
       "996     Not Converted\n",
       "997     Not Converted\n",
       "998     Not Converted\n",
       "999     Not Converted\n",
       "1000    Not Converted\n",
       "Name: Status , Length: 1001, dtype: object"
      ]
     },
     "execution_count": 371,
     "metadata": {},
     "output_type": "execute_result"
    }
   ],
   "source": [
    "leads ['Status ']"
   ]
  },
  {
   "cell_type": "code",
   "execution_count": 373,
   "id": "69b0eb35",
   "metadata": {},
   "outputs": [],
   "source": []
  },
  {
   "cell_type": "code",
   "execution_count": null,
   "id": "390ea90c",
   "metadata": {},
   "outputs": [],
   "source": []
  },
  {
   "cell_type": "code",
   "execution_count": null,
   "id": "4a41fee4",
   "metadata": {},
   "outputs": [],
   "source": []
  }
 ],
 "metadata": {
  "kernelspec": {
   "display_name": "Python 3 (ipykernel)",
   "language": "python",
   "name": "python3"
  },
  "language_info": {
   "codemirror_mode": {
    "name": "ipython",
    "version": 3
   },
   "file_extension": ".py",
   "mimetype": "text/x-python",
   "name": "python",
   "nbconvert_exporter": "python",
   "pygments_lexer": "ipython3",
   "version": "3.9.13"
  }
 },
 "nbformat": 4,
 "nbformat_minor": 5
}
